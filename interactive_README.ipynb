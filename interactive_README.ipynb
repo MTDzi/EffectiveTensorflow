{
 "cells": [
  {
   "cell_type": "markdown",
   "metadata": {},
   "source": [
    "# Effective TensorFlow\n",
    "\n",
    "Table of Contents\n",
    "=================\n",
    "1.  [TensorFlow Basics](#basics)\n",
    "2.  [Understanding static and dynamic shapes](#shapes)\n",
    "3.  [Scopes and when to use them](#scopes)\n",
    "4.  [Broadcasting the good and the ugly](#broadcast)\n",
    "5.  [Feeding data to TensorFlow](#data)\n",
    "6.  [Take advantage of the overloaded operators](#overloaded_ops)\n",
    "7.  [Understanding order of execution and control dependencies](#control_deps)\n",
    "8.  [Control flow operations: conditionals and loops](#control_flow)\n",
    "9.  [Prototyping kernels and advanced visualization with Python ops](#python_ops)\n",
    "10. [Multi-GPU processing with data parallelism](#multi_gpu)\n",
    "11. [Debugging TensorFlow models](#debug)\n",
    "12. [Numerical stability in TensorFlow](#stable)\n",
    "13. [Building a neural network training framework with learn API](#tf_learn)\n",
    "14. [TensorFlow Cookbook](#cookbook)\n",
    "    - [Get shape](#get_shape)\n",
    "    - [Batch gather](#batch_gather)\n",
    "    - [Beam search](#beam_search)\n",
    "    - [Merge](#merge)\n",
    "    - [Entropy](#entropy)\n",
    "    - [KL-Divergence](#kld)\n",
    "    - [Make parallel](#make_parallel)\n",
    "    - [Leaky Relu](#leaky_relu)\n",
    "    - [Batch normalization](#batch_norm)\n",
    "    - [Squeeze and excitation](#squeeze_excite)\n",
    "---\n",
    "\n",
    "_We aim to gradually expand this series by adding new articles and keep the content up to date with the latest releases of TensorFlow API. If you have suggestions on how to improve this series or find the explanations ambiguous, feel free to create an issue, send patches, or reach out by email._\n",
    "\n",
    "You can instantiate a notebook with the following examples in your browser using Binder (click the badge):\n",
    "[![Binder](https://mybinder.org/badge.svg)](https://mybinder.org/v2/gh/MTDzi/EffectiveTensorflow/master?filepath=interactive_README.ipynb)\n",
    "or create an environment:\n",
    "```\n",
    "conda env create -f environment.yml\n",
    "```\n",
    "and run the `\"interactive_README.ipynb\"` notebook on your local machine.\n",
    "\n",
    " _We encourage you to also check out the accompanied neural network training framework built on top of tf.contrib.learn API. The [framework](https://github.com/vahidk/TensorflowFramework) can be downloaded separately:_\n",
    "```\n",
    "git clone https://github.com/vahidk/TensorflowFramework.git\n",
    "```"
   ]
  },
  {
   "cell_type": "markdown",
   "metadata": {},
   "source": [
    "## TensorFlow Basics\n",
    "<a name=\"basics\"></a>\n",
    "\n",
    "----"
   ]
  },
  {
   "cell_type": "markdown",
   "metadata": {},
   "source": [
    "The most striking difference between TensorFlow and other numerical computation libraries such as NumPy is that operations in TensorFlow are symbolic. This is a powerful concept that allows TensorFlow to do all sort of things (e.g. automatic differentiation) that are not possible with imperative libraries such as NumPy. But it also comes at the cost of making it harder to grasp. Our attempt here is to demystify TensorFlow and provide some guidelines and best practices for more effective use of TensorFlow.\n",
    "\n",
    "Let's start with a simple example, we want to multiply two random matrices. First we look at an implementation done in NumPy:"
   ]
  },
  {
   "cell_type": "code",
   "execution_count": 1,
   "metadata": {
    "scrolled": false
   },
   "outputs": [
    {
     "name": "stdout",
     "output_type": "stream",
     "text": [
      "[[ 8.79409038e-01  3.81998372e+00  2.76142650e+00 -1.10443099e+00\n",
      "   2.34207209e+00  1.09404800e+00 -4.16466436e+00 -1.31565590e+00\n",
      "   3.93749701e+00  1.72239924e-02]\n",
      " [-1.72033492e+00  4.43523293e+00 -3.76654809e+00  5.92396749e+00\n",
      "   3.75884227e+00 -2.21848562e+00 -8.01930215e+00  7.13999857e-02\n",
      "   4.41499433e+00 -4.39070456e+00]\n",
      " [-9.51343146e-01  1.16684786e-02  4.28765724e+00 -3.99609470e+00\n",
      "  -6.53963056e-01  1.66577398e+00  5.05442593e+00 -1.92111398e+00\n",
      "   1.05661361e+00 -4.43813336e+00]\n",
      " [-1.94513644e+00  3.88850509e+00 -1.69990917e+00  4.46609852e+00\n",
      "   1.97062190e+00 -4.94135502e+00 -3.55929104e+00 -8.71903366e-01\n",
      "  -3.67583174e+00 -5.21093268e-01]\n",
      " [ 1.85089272e-01 -1.71569188e-01 -3.79389824e+00 -4.37158036e+00\n",
      "   4.87769003e+00 -4.55368497e+00 -6.48179381e+00 -4.86127159e+00\n",
      "  -2.33706956e-03 -5.53081260e+00]\n",
      " [ 2.86192318e+00 -7.16613203e+00  2.77425206e+00 -4.51729599e+00\n",
      "   6.26984028e-01 -1.42636517e+00  6.12893619e+00 -3.29631539e+00\n",
      "   5.23484105e+00  4.22569149e+00]\n",
      " [ 4.35239865e+00 -5.72362565e+00  7.37497678e-01 -3.76655609e+00\n",
      "  -1.87693965e+00 -2.11167266e+00  8.41343975e+00  1.99359154e+00\n",
      "  -4.37816850e+00  7.10725662e+00]\n",
      " [-6.59815696e+00  1.60422971e-01  1.13555917e+00  1.09342262e+00\n",
      "   1.08585134e+00 -1.46826422e+00  1.41958562e+00 -3.69412211e+00\n",
      "   4.88592707e-01 -8.40873143e+00]\n",
      " [ 4.06885256e+00 -3.47011533e+00 -3.03504023e+00  1.50729952e+00\n",
      "  -3.86903644e+00  5.52951999e-01  4.49750807e+00  4.49436108e+00\n",
      "  -4.05779149e+00  3.92145485e+00]\n",
      " [-2.03376992e-01 -5.27469628e+00 -1.33294216e+00  3.34499456e+00\n",
      "  -1.46605132e+00  2.74644227e-01  6.51539515e+00  3.69561625e+00\n",
      "   1.30654920e+00  1.77191815e+00]]\n"
     ]
    }
   ],
   "source": [
    "import numpy as np\n",
    "\n",
    "x = np.random.normal(size=[10, 10])\n",
    "y = np.random.normal(size=[10, 10])\n",
    "z = np.dot(x, y)\n",
    "\n",
    "print(z)"
   ]
  },
  {
   "cell_type": "markdown",
   "metadata": {},
   "source": [
    "Now we perform the exact same computation this time in TensorFlow:"
   ]
  },
  {
   "cell_type": "code",
   "execution_count": 2,
   "metadata": {
    "scrolled": false
   },
   "outputs": [
    {
     "name": "stdout",
     "output_type": "stream",
     "text": [
      "[[-4.1316524   5.470432    0.59554493 -1.8662449   3.4217193  -1.3617333\n",
      "  -1.7188292   1.5467906   0.67369133 -7.6193438 ]\n",
      " [-2.7073328   4.9765196   1.1192673   1.68204     0.7387767  -0.2509363\n",
      "  -0.7454821  -1.802145    1.7182754  -2.9671009 ]\n",
      " [-1.1915479   0.52490574  4.980897    1.1170299   6.250311    5.714476\n",
      "  -0.48571974 -3.3865023   3.1981876   4.770077  ]\n",
      " [-1.7634747   3.0931196   2.0398793  -3.5683167   2.6523361   3.5200636\n",
      "  -2.777476    3.2244759   3.2137678  -2.200465  ]\n",
      " [ 2.2088833   2.5342038  -2.0832245   5.2913365   0.08185586 -3.002068\n",
      "   0.84187114 -8.218136    0.33472735  0.67385757]\n",
      " [ 4.1537414   0.5846967  -2.5292733   3.1380126   0.0980214  -4.4586506\n",
      "   0.52054334 -4.8179173   0.10286486 -0.3136202 ]\n",
      " [-1.3088549  -0.5607232  -1.8139035   0.1759216  -2.1102467  -0.7180903\n",
      "   1.7647583  -1.9585884  -2.2129374  -2.015387  ]\n",
      " [-1.3420477  -1.5493006   0.6342718  -4.44202     0.5442125   2.4045124\n",
      "  -0.8021609  -0.6007094  -0.95977414 -1.3432573 ]\n",
      " [ 2.5201898   1.0976803   0.9979652   2.3174958   3.1102614  -2.1573691\n",
      "   2.0236979   2.9892766  -0.96625525  0.586673  ]\n",
      " [ 0.9586587  -0.62876415 -3.4533203   6.2302017   4.1884394  -3.1654315\n",
      "  -0.49213636 -3.176754    2.2364793   2.6102982 ]]\n"
     ]
    }
   ],
   "source": [
    "import tensorflow as tf\n",
    "\n",
    "x = tf.random_normal([10, 10])\n",
    "y = tf.random_normal([10, 10])\n",
    "z = tf.matmul(x, y)\n",
    "\n",
    "sess = tf.Session()\n",
    "z_val = sess.run(z)\n",
    "\n",
    "print(z_val)"
   ]
  },
  {
   "cell_type": "markdown",
   "metadata": {},
   "source": [
    "Unlike NumPy that immediately performs the computation and produces the result, tensorflow only gives us a handle (of type Tensor) to a node in the graph that represents the result. If we try printing the value of z directly, we get something like this:"
   ]
  },
  {
   "cell_type": "code",
   "execution_count": 3,
   "metadata": {},
   "outputs": [
    {
     "data": {
      "text/plain": [
       "<tf.Tensor 'MatMul:0' shape=(10, 10) dtype=float32>"
      ]
     },
     "execution_count": 3,
     "metadata": {},
     "output_type": "execute_result"
    }
   ],
   "source": [
    "z"
   ]
  },
  {
   "cell_type": "markdown",
   "metadata": {},
   "source": [
    "Since both the inputs have a fully defined shape, tensorflow is able to infer the shape of the tensor as well as its type. In order to compute the value of the tensor we need to create a session and evaluate it using Session.run() method.\n",
    "\n",
    "\n",
    "***\n",
    "__Tip__: When using Jupyter notebook make sure to call tf.reset_default_graph() at the beginning to clear the symbolic graph before defining new nodes.\n",
    "***\n",
    "\n",
    "To understand how powerful symbolic computation can be let's have a look at another example. Assume that we have samples from a curve (say f(x) = 5x^2 + 3) and we want to estimate f(x) based on these samples. We define a parametric function g(x, w) = w0 x^2 + w1 x + w2, which is a function of the input x and latent parameters w, our goal is then to find the latent parameters such that g(x, w) ≈ f(x). This can be done by minimizing the following loss function: L(w) = &sum; (f(x) - g(x, w))^2. Although there's a closed form solution for this simple problem, we opt to use a more general approach that can be applied to any arbitrary differentiable function, and that is using stochastic gradient descent. We simply compute the average gradient of L(w) with respect to w over a set of sample points and move in the opposite direction.\n",
    "\n",
    "\n",
    "Here's how it can be done in TensorFlow:"
   ]
  },
  {
   "cell_type": "code",
   "execution_count": 4,
   "metadata": {
    "scrolled": true
   },
   "outputs": [
    {
     "data": {
      "text/plain": [
       "<matplotlib.figure.Figure at 0x7f269c7263c8>"
      ]
     },
     "metadata": {},
     "output_type": "display_data"
    },
    {
     "name": "stdout",
     "output_type": "stream",
     "text": [
      "[array([[4.9959269e+00],\n",
      "       [9.4965822e-04],\n",
      "       [3.2372758e+00]], dtype=float32)]\n"
     ]
    }
   ],
   "source": [
    "import numpy as np\n",
    "import tensorflow as tf\n",
    "import matplotlib.pyplot as plt\n",
    "\n",
    "\n",
    "# Placeholders are used to feed values from python to TensorFlow ops. We define\n",
    "# two placeholders, one for input feature x, and one for output y.\n",
    "x = tf.placeholder(tf.float32)\n",
    "y = tf.placeholder(tf.float32)\n",
    "\n",
    "# Assuming we know that the desired function is a polynomial of 2nd degree, we\n",
    "# allocate a vector of size 3 to hold the coefficients. The variable will be\n",
    "# automatically initialized with random noise.\n",
    "w = tf.get_variable(\"w\", shape=[3, 1])\n",
    "\n",
    "# We define yhat to be our estimate of y.\n",
    "f = tf.stack([tf.square(x), x, tf.ones_like(x)], 1)\n",
    "yhat = tf.squeeze(tf.matmul(f, w), 1)\n",
    "\n",
    "# The loss is defined to be the l2 distance between our estimate of y and its\n",
    "# true value. We also added a shrinkage term, to ensure the resulting weights\n",
    "# would be small.\n",
    "loss = tf.nn.l2_loss(yhat - y) + 0.1 * tf.nn.l2_loss(w)\n",
    "\n",
    "# We use the Adam optimizer with learning rate set to 0.1 to minimize the loss.\n",
    "train_op = tf.train.AdamOptimizer(0.1).minimize(loss)\n",
    "\n",
    "def generate_data():\n",
    "    x_val = np.random.uniform(-10.0, 10.0, size=100)\n",
    "    y_val = 5 * np.square(x_val) + 3\n",
    "    return x_val, y_val\n",
    "\n",
    "sess = tf.Session()\n",
    "\n",
    "losses_val = []\n",
    "# Since we are using variables we first need to initialize them.\n",
    "sess.run(tf.global_variables_initializer())\n",
    "for _ in range(1000):\n",
    "    x_val, y_val = generate_data()\n",
    "    _, loss_val = sess.run([train_op, loss], {x: x_val, y: y_val})\n",
    "    losses_val.append(loss_val)\n",
    "    \n",
    "plt.plot(losses_val)\n",
    "plt.title('Loss on the validation set')\n",
    "plt.xlabel('Step')\n",
    "plt.ylabel('Loss')\n",
    "plt.show()\n",
    "\n",
    "print(sess.run([w]))"
   ]
  },
  {
   "cell_type": "markdown",
   "metadata": {},
   "source": [
    "By running this piece of code you should see a result close to this:\n",
    "```\n",
    "[4.9924135, 0.00040895029, 3.4504161]\n",
    "```\n",
    "Which is a relatively close approximation to our parameters.\n",
    "\n",
    "This is just tip of the iceberg for what TensorFlow can do. Many problems such as optimizing large neural networks with millions of parameters can be implemented efficiently in TensorFlow in just a few lines of code. TensorFlow takes care of scaling across multiple devices, and threads, and supports a variety of platforms."
   ]
  },
  {
   "cell_type": "markdown",
   "metadata": {},
   "source": [
    "## Understanding static and dynamic shapes\n",
    "<a name=\"shapes\"></a>\n",
    "Tensors in TensorFlow have a static shape attribute which is determined during graph construction. The static shape may be underspecified. For example we might define a tensor of shape [None, 128]:"
   ]
  },
  {
   "cell_type": "code",
   "execution_count": 5,
   "metadata": {
    "collapsed": true
   },
   "outputs": [],
   "source": [
    "import tensorflow as tf\n",
    "\n",
    "\n",
    "a = tf.placeholder(tf.float32, [None, 128])"
   ]
  },
  {
   "cell_type": "markdown",
   "metadata": {},
   "source": [
    "This means that the first dimension can be of any size and will be determined dynamically during Session.run(). You can query the static shape of a Tensor as follows:"
   ]
  },
  {
   "cell_type": "code",
   "execution_count": 6,
   "metadata": {},
   "outputs": [
    {
     "data": {
      "text/plain": [
       "[None, 128]"
      ]
     },
     "execution_count": 6,
     "metadata": {},
     "output_type": "execute_result"
    }
   ],
   "source": [
    "a.shape.as_list()"
   ]
  },
  {
   "cell_type": "markdown",
   "metadata": {},
   "source": [
    "To get the dynamic shape of the tensor you can call tf.shape op, which returns a tensor representing the shape of the given tensor:"
   ]
  },
  {
   "cell_type": "code",
   "execution_count": 7,
   "metadata": {},
   "outputs": [
    {
     "data": {
      "text/plain": [
       "<tf.Tensor 'Shape:0' shape=(2,) dtype=int32>"
      ]
     },
     "execution_count": 7,
     "metadata": {},
     "output_type": "execute_result"
    }
   ],
   "source": [
    "tf.shape(a)"
   ]
  },
  {
   "cell_type": "markdown",
   "metadata": {},
   "source": [
    "The static shape of a tensor can be set with Tensor.set_shape() method:"
   ]
  },
  {
   "cell_type": "code",
   "execution_count": 8,
   "metadata": {
    "collapsed": true
   },
   "outputs": [],
   "source": [
    "a.set_shape([32, 128])  # static shape of a is [32, 128]\n",
    "a.set_shape([None, 128])  # first dimension of a is determined dynamically"
   ]
  },
  {
   "cell_type": "markdown",
   "metadata": {},
   "source": [
    "You can reshape a given tensor dynamically using tf.reshape function:"
   ]
  },
  {
   "cell_type": "code",
   "execution_count": 9,
   "metadata": {},
   "outputs": [
    {
     "data": {
      "text/plain": [
       "<tf.Tensor 'Reshape:0' shape=(32, 128) dtype=float32>"
      ]
     },
     "execution_count": 9,
     "metadata": {},
     "output_type": "execute_result"
    }
   ],
   "source": [
    "a =  tf.reshape(a, [32, 128])\n",
    "a"
   ]
  },
  {
   "cell_type": "markdown",
   "metadata": {},
   "source": [
    "It can be convenient to have a function that returns the static shape when available and dynamic shape when it's not. The following utility function does just that:"
   ]
  },
  {
   "cell_type": "code",
   "execution_count": 10,
   "metadata": {
    "collapsed": true
   },
   "outputs": [],
   "source": [
    "def get_shape(tensor):\n",
    "    static_shape = tensor.shape.as_list()\n",
    "    dynamic_shape = tf.unstack(tf.shape(tensor))\n",
    "    dims = [s[1] if s[0] is None else s[0]\n",
    "            for s in zip(static_shape, dynamic_shape)]\n",
    "    return dims"
   ]
  },
  {
   "cell_type": "markdown",
   "metadata": {},
   "source": [
    "Now imagine we want to convert a Tensor of rank 3 to a tensor of rank 2 by collapsing the second and third dimensions into one. We can use our get_shape() function to do that:"
   ]
  },
  {
   "cell_type": "code",
   "execution_count": 11,
   "metadata": {},
   "outputs": [
    {
     "data": {
      "text/plain": [
       "<tf.Tensor 'Reshape_1:0' shape=(?, 320) dtype=float32>"
      ]
     },
     "execution_count": 11,
     "metadata": {},
     "output_type": "execute_result"
    }
   ],
   "source": [
    "b = tf.placeholder(tf.float32, [None, 10, 32])\n",
    "shape = get_shape(b)\n",
    "b = tf.reshape(b, [shape[0], shape[1] * shape[2]])\n",
    "b"
   ]
  },
  {
   "cell_type": "markdown",
   "metadata": {},
   "source": [
    "Note that this works whether the shapes are statically specified or not.\n",
    "\n",
    "In fact we can write a general purpose reshape function to collapse any list of dimensions:"
   ]
  },
  {
   "cell_type": "code",
   "execution_count": 12,
   "metadata": {
    "collapsed": true
   },
   "outputs": [],
   "source": [
    "import tensorflow as tf\n",
    "import numpy as np\n",
    "\n",
    "\n",
    "def reshape(tensor, dims_list):\n",
    "    shape = get_shape(tensor)\n",
    "    dims_prod = []\n",
    "    for dims in dims_list:\n",
    "        if isinstance(dims, int):\n",
    "            dims_prod.append(shape[dims])\n",
    "        elif all([isinstance(shape[d], int) for d in dims]):\n",
    "            dims_prod.append(np.prod([shape[d] for d in dims]))\n",
    "        else:\n",
    "            dims_prod.append(tf.prod([shape[d] for d in dims]))\n",
    "    tensor = tf.reshape(tensor, dims_prod)\n",
    "    return tensor"
   ]
  },
  {
   "cell_type": "markdown",
   "metadata": {},
   "source": [
    "Then collapsing the second dimension becomes very easy:"
   ]
  },
  {
   "cell_type": "code",
   "execution_count": 13,
   "metadata": {},
   "outputs": [
    {
     "data": {
      "text/plain": [
       "<tf.Tensor 'Reshape_2:0' shape=(?, 320) dtype=float32>"
      ]
     },
     "execution_count": 13,
     "metadata": {},
     "output_type": "execute_result"
    }
   ],
   "source": [
    "b = tf.placeholder(tf.float32, [None, 10, 32])\n",
    "b = reshape(b, [0, [1, 2]])\n",
    "b"
   ]
  },
  {
   "cell_type": "markdown",
   "metadata": {},
   "source": [
    "## Scopes and when to use them\n",
    "<a name=\"scopes\"></a>\n",
    "\n",
    "Variables and tensors in TensorFlow have a name attribute that is used to identify them in the symbolic graph. If you don't specify a name when creating a variable or a tensor, TensorFlow automatically assigns a name for you:"
   ]
  },
  {
   "cell_type": "code",
   "execution_count": 14,
   "metadata": {},
   "outputs": [
    {
     "name": "stdout",
     "output_type": "stream",
     "text": [
      "Const:0\n",
      "Variable:0\n"
     ]
    }
   ],
   "source": [
    "a = tf.constant(1)\n",
    "print(a.name)\n",
    "\n",
    "b = tf.Variable(1)\n",
    "print(b.name)"
   ]
  },
  {
   "cell_type": "markdown",
   "metadata": {},
   "source": [
    "You can overwrite the default name by explicitly specifying it:"
   ]
  },
  {
   "cell_type": "code",
   "execution_count": 15,
   "metadata": {},
   "outputs": [
    {
     "name": "stdout",
     "output_type": "stream",
     "text": [
      "a:0\n",
      "b:0\n"
     ]
    }
   ],
   "source": [
    "a = tf.constant(1, name=\"a\")\n",
    "print(a.name)\n",
    "\n",
    "b = tf.Variable(1, name=\"b\")\n",
    "print(b.name)"
   ]
  },
  {
   "cell_type": "markdown",
   "metadata": {},
   "source": [
    "TensorFlow introduces two different context managers to alter the name of tensors and variables. The first is tf.name_scope:"
   ]
  },
  {
   "cell_type": "code",
   "execution_count": 16,
   "metadata": {},
   "outputs": [
    {
     "name": "stdout",
     "output_type": "stream",
     "text": [
      "scope/a:0\n",
      "scope/b:0\n",
      "c:0\n"
     ]
    }
   ],
   "source": [
    "with tf.name_scope(\"scope\"):\n",
    "    a = tf.constant(1, name=\"a\")\n",
    "    print(a.name)\n",
    "\n",
    "    b = tf.Variable(1, name=\"b\")\n",
    "    print(b.name)\n",
    "\n",
    "    c = tf.get_variable(name=\"c\", shape=[])\n",
    "    print(c.name)"
   ]
  },
  {
   "cell_type": "markdown",
   "metadata": {},
   "source": [
    "Note that there are two ways to define new variables in TensorFlow, by creating a tf.Variable object or by calling tf.get_variable. Calling tf.get_variable with a new name results in creating a new variable, but if a variable with the same name exists it will raise a ValueError exception, telling us that re-declaring a variable is not allowed.\n",
    "\n",
    "tf.name_scope affects the name of tensors and variables created with tf.Variable, but doesn't impact the variables created with tf.get_variable.\n",
    "\n",
    "Unlike tf.name_scope, tf.variable_scope modifies the name of variables created with tf.get_variable as well:"
   ]
  },
  {
   "cell_type": "code",
   "execution_count": 17,
   "metadata": {},
   "outputs": [
    {
     "name": "stdout",
     "output_type": "stream",
     "text": [
      "scope_1/a:0\n",
      "scope_1/b:0\n",
      "scope/c:0\n"
     ]
    }
   ],
   "source": [
    "with tf.variable_scope(\"scope\"):\n",
    "    a = tf.constant(1, name=\"a\")\n",
    "    print(a.name)\n",
    "\n",
    "    b = tf.Variable(1, name=\"b\")\n",
    "    print(b.name)\n",
    "\n",
    "    c = tf.get_variable(name=\"c\", shape=[])\n",
    "    print(c.name)"
   ]
  },
  {
   "cell_type": "code",
   "execution_count": 18,
   "metadata": {
    "collapsed": true
   },
   "outputs": [],
   "source": [
    "with tf.variable_scope(\"scope\"):\n",
    "    a1 = tf.get_variable(name=\"a\", shape=[])\n",
    "    # Disallowed\n",
    "    # a2 = tf.get_variable(name=\"a\", shape=[])"
   ]
  },
  {
   "cell_type": "markdown",
   "metadata": {},
   "source": [
    "But what if we actually want to reuse a previously declared variable? Variable scopes also provide the functionality to do that:"
   ]
  },
  {
   "cell_type": "code",
   "execution_count": 19,
   "metadata": {
    "collapsed": true
   },
   "outputs": [],
   "source": [
    "# We've defined a1 above, so in order to create it again, we need to reset\n",
    "# the default graph\n",
    "tf.reset_default_graph()\n",
    "\n",
    "with tf.variable_scope(\"scope\"):\n",
    "    a1 = tf.get_variable(name=\"a\", shape=[])\n",
    "    \n",
    "with tf.variable_scope(\"scope\", reuse=True):\n",
    "    a2 = tf.get_variable(name=\"a\", shape=[])  # OK"
   ]
  },
  {
   "cell_type": "markdown",
   "metadata": {},
   "source": [
    "This becomes handy for example when using built-in neural network layers:"
   ]
  },
  {
   "cell_type": "code",
   "execution_count": 20,
   "metadata": {
    "collapsed": true
   },
   "outputs": [],
   "source": [
    "image1 = tf.placeholder(tf.float32, shape=[None, 100, 100, 3])\n",
    "image2 = tf.placeholder(tf.float32, shape=[None, 100, 100, 3])\n",
    "\n",
    "conv1_weights = tf.get_variable('conv1_w', [3, 3, 3, 64])\n",
    "features1 = tf.nn.conv2d(image1, conv1_weights, strides=[1, 1, 1, 1], padding='SAME')\n",
    "\n",
    "# Use the same convolution weights to process the second image\n",
    "with tf.variable_scope(tf.get_variable_scope(), reuse=True):\n",
    "    conv1_weights = tf.get_variable('conv1_w')\n",
    "    features2 = tf.nn.conv2d(image2, conv1_weights, strides=[1, 1, 1, 1], padding='SAME')"
   ]
  },
  {
   "cell_type": "markdown",
   "metadata": {},
   "source": [
    "This syntax may not look very clean to some. Especially if you want to do lots of variable sharing keeping track of when to define new variables and when to reuse them can be cumbersome and error prone. TensorFlow templates are designed to handle this automatically:"
   ]
  },
  {
   "cell_type": "code",
   "execution_count": 21,
   "metadata": {
    "collapsed": true
   },
   "outputs": [],
   "source": [
    "conv3x32 = tf.make_template(\"conv3x32\", lambda x: tf.layers.conv2d(x, 32, 3))\n",
    "features1 = conv3x32(image1)\n",
    "features2 = conv3x32(image2)  # Will reuse the convolution weights."
   ]
  },
  {
   "cell_type": "markdown",
   "metadata": {},
   "source": [
    "You can turn any function to a TensorFlow template. Upon the first call to a template, the variables defined inside the function would be declared and in the consecutive invocations they would automatically get reused."
   ]
  },
  {
   "cell_type": "markdown",
   "metadata": {},
   "source": [
    "## Broadcasting the good and the ugly\n",
    "<a name=\"broadcast\"></a>\n",
    "TensorFlow supports broadcasting elementwise operations. Normally when you want to perform operations like addition and multiplication, you need to make sure that shapes of the operands match, e.g. you can’t add a tensor of shape [3, 2] to a tensor of shape [3, 4]. But there’s a special case and that’s when you have a singular dimension. TensorFlow implicitly tiles the tensor across its singular dimensions to match the shape of the other operand. So it’s valid to add a tensor of shape [3, 2] to a tensor of shape [3, 1]"
   ]
  },
  {
   "cell_type": "code",
   "execution_count": 22,
   "metadata": {
    "collapsed": true
   },
   "outputs": [],
   "source": [
    "a = tf.constant([[1., 2.], [3., 4.]])\n",
    "b = tf.constant([[1.], [2.]])\n",
    "# c = a + tf.tile(b, [1, 2])\n",
    "c = a + b"
   ]
  },
  {
   "cell_type": "markdown",
   "metadata": {},
   "source": [
    "Broadcasting allows us to perform implicit tiling which makes the code shorter, and more memory efficient, since we don’t need to store the result of the tiling operation. One neat place that this can be used is when combining features of varying length. In order to concatenate features of varying length we commonly tile the input tensors, concatenate the result and apply some nonlinearity. This is a common pattern across a variety of neural network architectures:"
   ]
  },
  {
   "cell_type": "code",
   "execution_count": 23,
   "metadata": {
    "collapsed": true
   },
   "outputs": [],
   "source": [
    "a = tf.random_uniform([5, 3, 5])\n",
    "b = tf.random_uniform([5, 1, 6])\n",
    "\n",
    "# concat a and b and apply nonlinearity\n",
    "tiled_b = tf.tile(b, [1, 3, 1])\n",
    "c = tf.concat([a, tiled_b], 2)\n",
    "d = tf.layers.dense(c, 10, activation=tf.nn.relu)"
   ]
  },
  {
   "cell_type": "markdown",
   "metadata": {},
   "source": [
    "But this can be done more efficiently with broadcasting. We use the fact that f(m(x + y)) is equal to f(mx + my). So we can do the linear operations separately and use broadcasting to do implicit concatenation:"
   ]
  },
  {
   "cell_type": "code",
   "execution_count": 24,
   "metadata": {
    "collapsed": true
   },
   "outputs": [],
   "source": [
    "pa = tf.layers.dense(a, 10, activation=None)\n",
    "pb = tf.layers.dense(b, 10, activation=None)\n",
    "d = tf.nn.relu(pa + pb)"
   ]
  },
  {
   "cell_type": "markdown",
   "metadata": {},
   "source": [
    "In fact this piece of code is pretty general and can be applied to tensors of arbitrary shape as long as broadcasting between tensors is possible:"
   ]
  },
  {
   "cell_type": "code",
   "execution_count": 25,
   "metadata": {
    "collapsed": true
   },
   "outputs": [],
   "source": [
    "def merge(a, b, units, activation=tf.nn.relu):\n",
    "    pa = tf.layers.dense(a, units, activation=None)\n",
    "    pb = tf.layers.dense(b, units, activation=None)\n",
    "    c = pa + pb\n",
    "    if activation is not None:\n",
    "        c = activation(c)\n",
    "    return c"
   ]
  },
  {
   "cell_type": "markdown",
   "metadata": {},
   "source": [
    "A slightly more general form of this function is [included](#merge) in the cookbook.\n",
    "\n",
    "So far we discussed the good part of broadcasting. But what’s the ugly part you may ask? Implicit assumptions almost always make debugging harder to do. Consider the following example:"
   ]
  },
  {
   "cell_type": "code",
   "execution_count": 26,
   "metadata": {
    "collapsed": true
   },
   "outputs": [],
   "source": [
    "a = tf.constant([[1.], [2.]])\n",
    "b = tf.constant([1., 2.])\n",
    "c = tf.reduce_sum(a + b)"
   ]
  },
  {
   "cell_type": "markdown",
   "metadata": {},
   "source": [
    "What do you think the value of c would be after evaluation? If you guessed 6, that’s wrong. It’s going to be 12. This is because when rank of two tensors don’t match, TensorFlow automatically expands the first dimension of the tensor with lower rank before the elementwise operation, so the result of addition would be [[2, 3], [3, 4]], and the reducing over all parameters would give us 12."
   ]
  },
  {
   "cell_type": "code",
   "execution_count": 27,
   "metadata": {},
   "outputs": [
    {
     "data": {
      "text/plain": [
       "12.0"
      ]
     },
     "execution_count": 27,
     "metadata": {},
     "output_type": "execute_result"
    }
   ],
   "source": [
    "sess = tf.Session()\n",
    "sess.run(c)"
   ]
  },
  {
   "cell_type": "markdown",
   "metadata": {},
   "source": [
    "The way to avoid this problem is to be as explicit as possible. Had we specified which dimension we would want to reduce across, catching this bug would have been much easier:"
   ]
  },
  {
   "cell_type": "code",
   "execution_count": 28,
   "metadata": {},
   "outputs": [
    {
     "data": {
      "text/plain": [
       "array([5., 7.], dtype=float32)"
      ]
     },
     "execution_count": 28,
     "metadata": {},
     "output_type": "execute_result"
    }
   ],
   "source": [
    "a = tf.constant([[1.], [2.]])\n",
    "b = tf.constant([1., 2.])\n",
    "c = tf.reduce_sum(a + b, 0)\n",
    "sess.run(c)"
   ]
  },
  {
   "cell_type": "markdown",
   "metadata": {},
   "source": [
    "Here the value of c is [5, 7], and we immediately would guess based on the shape of the result that there’s something wrong. A general rule of thumb is to always specify the dimensions in reduction operations and when using tf.squeeze.\n",
    "\n",
    "## Feeding data to TensorFlow\n",
    "<a name=\"data\"></a>\n",
    "\n",
    "TensorFlow is designed to work efficiently with large amount of data. So it's important not to starve your TensorFlow model in order to maximize its performance. There are various ways that you can feed your data to TensorFlow.\n",
    "\n",
    "### Constants\n",
    "The simplest approach is to embed the data in your graph as a constant:"
   ]
  },
  {
   "cell_type": "code",
   "execution_count": 29,
   "metadata": {
    "collapsed": true
   },
   "outputs": [],
   "source": [
    "actual_data = np.random.normal(size=[100])\n",
    "\n",
    "data = tf.constant(actual_data)"
   ]
  },
  {
   "cell_type": "markdown",
   "metadata": {},
   "source": [
    "This approach can be very efficient, but it's not very flexible. One problem with this approach is that, in order to use your model with another dataset you have to rewrite the graph. Also, you have to load all of your data at once and keep it in memory which would only work with small datasets.\n",
    "\n",
    "### Placeholders\n",
    "Using placeholders solves both of these problems:"
   ]
  },
  {
   "cell_type": "code",
   "execution_count": 30,
   "metadata": {},
   "outputs": [
    {
     "data": {
      "text/plain": [
       "array([1.5884947, 1.3410461, 1.014448 , 1.0088717, 1.684809 , 3.0931547,\n",
       "       1.5160918, 3.546394 , 1.0058033, 1.0689459, 1.6702695, 1.092588 ,\n",
       "       1.1949763, 1.7730119, 2.1193926, 1.0000746, 1.0013407, 3.1080537,\n",
       "       2.137538 , 1.0310628, 1.2136636, 1.2966591, 2.7791133, 1.0752715,\n",
       "       1.0001731, 1.0154577, 1.5353656, 1.2691123, 5.810177 , 1.2699649,\n",
       "       1.127784 , 1.4303801, 2.648038 , 2.317832 , 1.1239064, 2.0335813,\n",
       "       3.1863074, 1.0259023, 3.2779973, 2.7894404, 1.7248772, 1.3147612,\n",
       "       1.6885958, 1.0205342, 1.6476911, 2.663628 , 1.655623 , 1.0092949,\n",
       "       2.9211397, 1.0660866, 1.825105 , 3.0801072, 2.2063215, 1.0676146,\n",
       "       2.0505662, 2.1774657, 2.7993016, 1.3100938, 2.1450522, 2.9252868,\n",
       "       2.6245646, 4.977445 , 1.010375 , 2.449447 , 1.1088196, 1.0540252,\n",
       "       1.019463 , 1.6646936, 1.097413 , 1.1366236, 1.2116996, 3.2758334,\n",
       "       5.2763305, 1.2135888, 1.0138184, 1.1088861, 1.4853244, 1.002463 ,\n",
       "       1.0109003, 1.7839735, 3.8420875, 1.0406535, 1.0167717, 1.3886988,\n",
       "       1.3332536, 1.1386113, 1.9157982, 1.0001085, 1.7181236, 2.0487337,\n",
       "       1.0084076, 2.337519 , 1.5753618, 1.0135951, 3.020419 , 1.025023 ,\n",
       "       2.1717057, 3.6296546, 3.1894002, 1.0283245], dtype=float32)"
      ]
     },
     "execution_count": 30,
     "metadata": {},
     "output_type": "execute_result"
    }
   ],
   "source": [
    "data = tf.placeholder(tf.float32)\n",
    "\n",
    "prediction = tf.square(data) + 1\n",
    "\n",
    "actual_data = np.random.normal(size=[100])\n",
    "\n",
    "tf.Session().run(prediction, feed_dict={data: actual_data})"
   ]
  },
  {
   "cell_type": "markdown",
   "metadata": {},
   "source": [
    "Placeholder operator returns a tensor whose value is fetched through the feed_dict argument in Session.run function. Note that running Session.run without feeding the value of data in this case will result in an error.\n",
    "\n",
    "### Python ops\n",
    "Another approach to feed the data to TensorFlow is by using Python ops:"
   ]
  },
  {
   "cell_type": "code",
   "execution_count": 31,
   "metadata": {
    "collapsed": true
   },
   "outputs": [],
   "source": [
    "def py_input_fn():\n",
    "    actual_data = np.random.normal(size=[100])\n",
    "    return actual_data\n",
    "\n",
    "data = tf.py_func(py_input_fn, [], (tf.float32))"
   ]
  },
  {
   "cell_type": "markdown",
   "metadata": {},
   "source": [
    "Python ops allow you to convert a regular Python function to a TensorFlow operation.\n",
    "\n",
    "### Dataset API\n",
    "The recommended way of reading the data in TensorFlow however is through the dataset API:"
   ]
  },
  {
   "cell_type": "code",
   "execution_count": 32,
   "metadata": {
    "collapsed": true
   },
   "outputs": [],
   "source": [
    "actual_data = np.random.normal(size=[100])\n",
    "dataset = tf.data.Dataset.from_tensor_slices(actual_data)\n",
    "data = dataset.make_one_shot_iterator().get_next()"
   ]
  },
  {
   "cell_type": "markdown",
   "metadata": {},
   "source": [
    "If you need to read your data from file, it may be more efficient to write it in TFrecord format and use TFRecordDataset to read it:\n",
    "\n",
    "```python\n",
    "dataset = tf.contrib.data.TFRecordDataset(path_to_data)\n",
    "```"
   ]
  },
  {
   "cell_type": "markdown",
   "metadata": {},
   "source": [
    "See the [official docs](https://www.tensorflow.org/api_guides/python/reading_data#Reading_from_files) for an example of how to write your dataset in TFrecord format.\n",
    "\n",
    "Dataset API allows you to make efficient data processing pipelines easily. For example this is how we process our data in the accompanied framework (See\n",
    "[trainer.py](https://github.com/vahidk/TensorflowFramework/blob/master/trainer.py)):\n",
    "\n",
    "```python\n",
    "dataset = ...\n",
    "dataset = dataset.cache()\n",
    "if mode == tf.estimator.ModeKeys.TRAIN:\n",
    "    dataset = dataset.repeat()\n",
    "    dataset = dataset.shuffle(batch_size * 5)\n",
    "dataset = dataset.map(parse, num_threads=8)\n",
    "dataset = dataset.batch(batch_size)\n",
    "```"
   ]
  },
  {
   "cell_type": "markdown",
   "metadata": {},
   "source": [
    "After reading the data, we use Dataset.cache method to cache it into memory for improved efficiency. During the training mode, we repeat the dataset indefinitely. This allows us to process the whole dataset many times. We also shuffle the dataset to get batches with different sample distributions. Next, we use the Dataset.map function to perform preprocessing on raw records and convert the data to a usable format for the model. We then create batches of samples by calling Dataset.batch.\n",
    "\n",
    "## Take advantage of the overloaded operators\n",
    "<a name=\"overloaded_ops\"></a>\n",
    "Just like NumPy, TensorFlow overloads a number of python operators to make building graphs easier and the code more readable.\n",
    "\n",
    "The slicing op is one of the overloaded operators that can make indexing tensors very easy:\n",
    "```python\n",
    "z = x[begin:end]  # z = tf.slice(x, [begin], [end-begin])\n",
    "```"
   ]
  },
  {
   "cell_type": "markdown",
   "metadata": {},
   "source": [
    "Be very careful when using this op though. The slicing op is very inefficient and often better avoided, especially when the number of slices is high. To understand how inefficient this op can be let's look at an example. We want to manually perform reduction across the rows of a matrix:"
   ]
  },
  {
   "cell_type": "code",
   "execution_count": 33,
   "metadata": {},
   "outputs": [
    {
     "name": "stdout",
     "output_type": "stream",
     "text": [
      "CPU times: user 1.36 s, sys: 12.1 ms, total: 1.37 s\n",
      "Wall time: 1.37 s\n"
     ]
    },
    {
     "data": {
      "text/plain": [
       "array([257.78635, 259.78177, 255.85266, 265.00082, 242.49118, 253.8807 ,\n",
       "       249.92174, 250.81635, 243.49988, 246.82202], dtype=float32)"
      ]
     },
     "execution_count": 33,
     "metadata": {},
     "output_type": "execute_result"
    }
   ],
   "source": [
    "import time\n",
    "\n",
    "\n",
    "x = tf.random_uniform([500, 10])\n",
    "\n",
    "z = tf.zeros([10])\n",
    "for i in range(500):\n",
    "    z += x[i]\n",
    "\n",
    "sess = tf.Session()\n",
    "\n",
    "%time sess.run(z);"
   ]
  },
  {
   "cell_type": "markdown",
   "metadata": {},
   "source": [
    "On my MacBook Pro, this took 976 ms to run! The reason is that we are calling the slice op 500 times, which is going to be very slow to run. A better choice would have been to use tf.unstack op to slice the matrix into a list of vectors all at once:"
   ]
  },
  {
   "cell_type": "code",
   "execution_count": 34,
   "metadata": {},
   "outputs": [
    {
     "name": "stdout",
     "output_type": "stream",
     "text": [
      "CPU times: user 233 ms, sys: 2.95 ms, total: 236 ms\n",
      "Wall time: 239 ms\n"
     ]
    }
   ],
   "source": [
    "%%time\n",
    "z = tf.zeros([10])\n",
    "for x_i in tf.unstack(x):\n",
    "    z += x_i"
   ]
  },
  {
   "cell_type": "markdown",
   "metadata": {},
   "source": [
    "This took 277 ms. Of course, the right way to do this simple reduction is to use tf.reduce_sum op:"
   ]
  },
  {
   "cell_type": "code",
   "execution_count": 35,
   "metadata": {},
   "outputs": [
    {
     "name": "stdout",
     "output_type": "stream",
     "text": [
      "CPU times: user 2.28 ms, sys: 554 µs, total: 2.83 ms\n",
      "Wall time: 2.48 ms\n"
     ]
    }
   ],
   "source": [
    "%time z = tf.reduce_sum(x, axis=0)"
   ]
  },
  {
   "cell_type": "markdown",
   "metadata": {},
   "source": [
    "This took 3.36 ms, which is ~300x faster than the original implementation.\n",
    "\n",
    "TensorFlow also overloads a range of arithmetic and logical operators:"
   ]
  },
  {
   "cell_type": "code",
   "execution_count": 36,
   "metadata": {},
   "outputs": [],
   "source": [
    "x = tf.random_uniform([500, 10])\n",
    "y = tf.random_uniform([500, 10])\n",
    "\n",
    "z = -x  # z = tf.negative(x)\n",
    "z = x + y  # z = tf.add(x, y)\n",
    "z = x - y  # z = tf.subtract(x, y)\n",
    "z = x * y  # z = tf.mul(x, y)\n",
    "z = x / y  # z = tf.div(x, y)\n",
    "z = x // y  # z = tf.floordiv(x, y)\n",
    "z = x % y  # z = tf.mod(x, y)\n",
    "z = x ** y  # z = tf.pow(x, y)\n",
    "z = x @ tf.transpose(y)  # z = tf.matmul(x, y)\n",
    "z = x > y  # z = tf.greater(x, y)\n",
    "z = x >= y  # z = tf.greater_equal(x, y)\n",
    "z = x < y  # z = tf.less(x, y)\n",
    "z = x <= y  # z = tf.less_equal(x, y)\n",
    "z = abs(x)  # z = tf.abs(x)\n",
    "\n",
    "\n",
    "# Now, for logical operations\n",
    "x = tf.constant([True, False])\n",
    "y = tf.constant([True, True])\n",
    "\n",
    "z = x & y  # z = tf.logical_and(x, y)\n",
    "z = x | y  # z = tf.logical_or(x, y)\n",
    "z = x ^ y  # z = tf.logical_xor(x, y)\n",
    "z = ~x  # z = tf.logical_not(x)"
   ]
  },
  {
   "cell_type": "markdown",
   "metadata": {},
   "source": [
    "You can also use the augmented version of these ops. For example `x += y` and `x **= 2` are also valid.\n",
    "\n",
    "Note that Python doesn't allow overloading \"`and`\", \"`or`\", and \"`not`\" keywords.\n",
    "\n",
    "TensorFlow also doesn't allow using tensors as booleans, as it may be error prone:"
   ]
  },
  {
   "cell_type": "code",
   "execution_count": 37,
   "metadata": {},
   "outputs": [],
   "source": [
    "x = tf.constant(1.)\n",
    "# This would raise a TypeError error\n",
    "# if x: \n",
    "#    ..."
   ]
  },
  {
   "cell_type": "markdown",
   "metadata": {},
   "source": [
    "You can either use tf.cond(x, ...) if you want to check the value of the tensor, or use \"if x is None\" to check the value of the variable.\n",
    "\n",
    "Other operators that aren't supported are equal (`==`) and not equal (`!=`) operators which are overloaded in NumPy but not in TensorFlow. Use the function versions instead which are `tf.equal` and `tf.not_equal`.\n",
    "\n",
    "\n",
    "## Understanding order of execution and control dependencies\n",
    "<a name=\"control_deps\"></a>\n",
    "As we discussed in the first item, TensorFlow doesn't immediately run the operations that are defined but rather creates corresponding nodes in a graph that can be evaluated with Session.run() method. This also enables TensorFlow to do optimizations at run time to determine the optimal order of execution and possible trimming of unused nodes. If you only have tf.Tensors in your graph you don't need to worry about dependencies but you most probably have tf.Variables too, and tf.Variables make things much more difficult. My advice to is to only use Variables if Tensors don't do the job. This might not make a lot of sense to you now, so let's start with an example."
   ]
  },
  {
   "cell_type": "code",
   "execution_count": 38,
   "metadata": {},
   "outputs": [
    {
     "data": {
      "text/plain": [
       "3"
      ]
     },
     "execution_count": 38,
     "metadata": {},
     "output_type": "execute_result"
    }
   ],
   "source": [
    "a = tf.constant(1)\n",
    "b = tf.constant(2)\n",
    "a = a + b\n",
    "\n",
    "sess.run(a)"
   ]
  },
  {
   "cell_type": "markdown",
   "metadata": {},
   "source": [
    "Evaluating \"a\" will return the value 3 as expected.  Note that here we are creating 3 tensors, two constant tensors and another tensor that stores the result of the addition. Note that you can't overwrite the value of a tensor. If you want to modify it you have to create a new tensor. As we did here.\n",
    "\n",
    "***\n",
    "__TIP__: If you don't define a new graph, TensorFlow automatically creates a graph for you by default. You can use tf.get_default_graph() to get a handle to the graph. You can then inspect the graph, for example by printing all its tensors:"
   ]
  },
  {
   "cell_type": "code",
   "execution_count": 39,
   "metadata": {},
   "outputs": [
    {
     "data": {
      "text/plain": [
       "[<tf.Tensor 'or:0' shape=(2,) dtype=bool>,\n",
       " <tf.Tensor 'xor/LogicalOr:0' shape=(2,) dtype=bool>,\n",
       " <tf.Tensor 'xor/LogicalAnd:0' shape=(2,) dtype=bool>,\n",
       " <tf.Tensor 'xor/LogicalNot:0' shape=(2,) dtype=bool>,\n",
       " <tf.Tensor 'xor:0' shape=(2,) dtype=bool>,\n",
       " <tf.Tensor 'LogicalNot:0' shape=(2,) dtype=bool>,\n",
       " <tf.Tensor 'Const_10:0' shape=() dtype=float32>,\n",
       " <tf.Tensor 'Const_11:0' shape=() dtype=int32>,\n",
       " <tf.Tensor 'Const_12:0' shape=() dtype=int32>,\n",
       " <tf.Tensor 'add_1006:0' shape=() dtype=int32>]"
      ]
     },
     "execution_count": 39,
     "metadata": {},
     "output_type": "execute_result"
    }
   ],
   "source": [
    "# The list of tensors defined so far is quite long, so I'm showing only\n",
    "# the last 10 elements\n",
    "tf.contrib.graph_editor.get_tensors(tf.get_default_graph())[-10:]"
   ]
  },
  {
   "cell_type": "markdown",
   "metadata": {},
   "source": [
    "Unlike tensors, variables can be updated. So let's see how we may use variables to do the same thing:"
   ]
  },
  {
   "cell_type": "code",
   "execution_count": 40,
   "metadata": {},
   "outputs": [
    {
     "name": "stdout",
     "output_type": "stream",
     "text": [
      "3\n"
     ]
    }
   ],
   "source": [
    "a = tf.Variable(1)\n",
    "b = tf.constant(2)\n",
    "assign = tf.assign(a, a + b)\n",
    "\n",
    "sess = tf.Session()\n",
    "sess.run(tf.global_variables_initializer())\n",
    "print(sess.run(assign))"
   ]
  },
  {
   "cell_type": "markdown",
   "metadata": {},
   "source": [
    "Again, we get 3 as expected. Note that tf.assign returns a tensor representing the value of the assignment.\n",
    "So far everything seemed to be fine, but let's look at a slightly more complicated example:"
   ]
  },
  {
   "cell_type": "code",
   "execution_count": 41,
   "metadata": {},
   "outputs": [
    {
     "name": "stdout",
     "output_type": "stream",
     "text": [
      "[5, 3]\n",
      "[5, 7]\n",
      "[5, 3]\n",
      "[5, 7]\n",
      "[5, 7]\n",
      "[5, 7]\n",
      "[5, 3]\n",
      "[5, 3]\n",
      "[5, 7]\n",
      "[5, 7]\n"
     ]
    }
   ],
   "source": [
    "a = tf.Variable(1)\n",
    "b = tf.constant(2)\n",
    "c = a + b\n",
    "\n",
    "assign = tf.assign(a, 5)\n",
    "\n",
    "sess = tf.Session()\n",
    "for i in range(10):\n",
    "    sess.run(tf.global_variables_initializer())\n",
    "    print(sess.run([assign, c]))"
   ]
  },
  {
   "cell_type": "markdown",
   "metadata": {},
   "source": [
    "Note that the tensor c here won't have a deterministic value. This value might be 3 or 7 depending on whether addition or assignment gets executed first.\n",
    "\n",
    "You should note that the order that you define ops in your code doesn't matter to TensorFlow runtime. The only thing that matters is the control dependencies. Control dependencies for tensors are straightforward. Every time you use a tensor in an operation that op will define an implicit dependency to that tensor. But things get complicated with variables because they can take many values.\n",
    "\n",
    "When dealing with variables, you may need to explicitly define dependencies using tf.control_dependencies() as follows:"
   ]
  },
  {
   "cell_type": "code",
   "execution_count": 42,
   "metadata": {},
   "outputs": [
    {
     "name": "stdout",
     "output_type": "stream",
     "text": [
      "[5, 3]\n",
      "[5, 3]\n",
      "[5, 3]\n",
      "[5, 3]\n",
      "[5, 3]\n",
      "[5, 3]\n",
      "[5, 3]\n",
      "[5, 3]\n",
      "[5, 3]\n",
      "[5, 3]\n"
     ]
    }
   ],
   "source": [
    "a = tf.Variable(1)\n",
    "b = tf.constant(2)\n",
    "c = a + b\n",
    "\n",
    "with tf.control_dependencies([c]):\n",
    "    assign = tf.assign(a, 5)\n",
    "\n",
    "sess = tf.Session()\n",
    "for i in range(10):\n",
    "    sess.run(tf.global_variables_initializer())\n",
    "    print(sess.run([assign, c]))"
   ]
  },
  {
   "cell_type": "code",
   "execution_count": null,
   "metadata": {
    "collapsed": true
   },
   "outputs": [],
   "source": []
  }
 ],
 "metadata": {
  "kernelspec": {
   "display_name": "Python 2",
   "language": "python",
   "name": "python2"
  },
  "language_info": {
   "codemirror_mode": {
    "name": "ipython",
    "version": 3
   },
   "file_extension": ".py",
   "mimetype": "text/x-python",
   "name": "python",
   "nbconvert_exporter": "python",
   "pygments_lexer": "ipython3",
   "version": "3.6.4"
  }
 },
 "nbformat": 4,
 "nbformat_minor": 2
}
